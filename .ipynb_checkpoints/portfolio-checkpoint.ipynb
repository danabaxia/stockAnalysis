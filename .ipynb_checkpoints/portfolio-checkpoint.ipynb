{
 "cells": [
  {
   "cell_type": "code",
   "execution_count": 28,
   "metadata": {},
   "outputs": [],
   "source": [
    "import robin_stocks as r\n",
    "import trading_algorithms as m \n",
    "import financial as f\n",
    "import pandas as pd"
   ]
  },
  {
   "cell_type": "markdown",
   "metadata": {},
   "source": [
    "create portfolio for different portion of the stocks\n",
    "it first reads the information from editable csv file\n",
    "\n",
    "stocks->long.csv\n",
    "        short.csv\n",
    "        ETF.csv\n",
    "        "
   ]
  },
  {
   "cell_type": "code",
   "execution_count": 27,
   "metadata": {},
   "outputs": [
    {
     "name": "stdout",
     "output_type": "stream",
     "text": [
      "    name    section\n",
      "0   AAPL       tech\n",
      "1   MSFT       tech\n",
      "2   NFLX       tech\n",
      "3   AMZN       tech\n",
      "4   GOOG       tech\n",
      "5     FB       tech\n",
      "6   TDOC       tech\n",
      "7   NVDA       tech\n",
      "8     SQ  financial\n",
      "9   PYPL  financial\n",
      "10  TSLA     engery\n",
      "['AAPL', 'MSFT', 'NFLX', 'AMZN', 'GOOG', 'FB', 'TDOC', 'NVDA', 'SQ', 'PYPL', 'TSLA']\n",
      "    name         section\n",
      "0    NIO            auto\n",
      "1   FSLY           cloud\n",
      "2    NET           cloud\n",
      "3  BYDDY          energy\n",
      "4   AAWW  transportation\n",
      "5    TPR         consume\n",
      "6   PSTG           cloud\n",
      "['NIO', 'FSLY', 'NET', 'BYDDY', 'AAWW', 'TPR', 'PSTG']\n",
      "   name section\n",
      "0   TAN  energy\n",
      "1  CLOU   cloud\n",
      "['TAN', 'CLOU']\n"
     ]
    }
   ],
   "source": [
    "#read from csv file to pandas \n",
    "long = pd.read_csv('stocks_config/long.csv',sep=',')\n",
    "print(long)\n",
    "long_list = []\n",
    "for item in long['name']:\n",
    "    long_list.append(item)\n",
    "print(long_list)\n",
    "\n",
    "short = pd.read_csv('stocks_config/short.csv',sep=',')\n",
    "print(short)\n",
    "short_list = []\n",
    "for item in short['name']:\n",
    "    short_list.append(item)\n",
    "print(short_list)\n",
    "\n",
    "etf = pd.read_csv('stocks_config/ETF.csv',sep=',')\n",
    "print(etf)\n",
    "etf_list = []\n",
    "for item in etf['name']:\n",
    "    etf_list.append(item)\n",
    "print(etf_list)"
   ]
  },
  {
   "cell_type": "code",
   "execution_count": null,
   "metadata": {},
   "outputs": [],
   "source": []
  },
  {
   "cell_type": "code",
   "execution_count": null,
   "metadata": {},
   "outputs": [],
   "source": []
  },
  {
   "cell_type": "code",
   "execution_count": null,
   "metadata": {},
   "outputs": [],
   "source": []
  }
 ],
 "metadata": {
  "kernelspec": {
   "display_name": "Python 3",
   "language": "python",
   "name": "python3"
  },
  "language_info": {
   "codemirror_mode": {
    "name": "ipython",
    "version": 3
   },
   "file_extension": ".py",
   "mimetype": "text/x-python",
   "name": "python",
   "nbconvert_exporter": "python",
   "pygments_lexer": "ipython3",
   "version": "3.7.3"
  }
 },
 "nbformat": 4,
 "nbformat_minor": 2
}
