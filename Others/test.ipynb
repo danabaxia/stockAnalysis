{
 "cells": [
  {
   "cell_type": "markdown",
   "metadata": {},
   "source": [
    "# Test algo "
   ]
  },
  {
   "cell_type": "code",
   "execution_count": 1,
   "metadata": {},
   "outputs": [],
   "source": [
    "#this file is to practice using stockstats library for stock analysis \n",
    "import robin_stocks as r\n",
    "import trading_algorithms as m \n",
    "import financial as f\n",
    "import pandas as pd\n",
    "import matplotlib.pyplot as plt\n",
    "import numpy as np\n",
    "import stockstats\n",
    "import indicators as ind"
   ]
  },
  {
   "cell_type": "markdown",
   "metadata": {},
   "source": [
    "## Test buy based on day data (long stradegy)"
   ]
  },
  {
   "cell_type": "code",
   "execution_count": 2,
   "metadata": {},
   "outputs": [
    {
     "name": "stdout",
     "output_type": "stream",
     "text": [
      "2020-03-04\n",
      "2020-03-23\n",
      "2020-04-29\n",
      "2020-05-08\n",
      "2020-05-14\n",
      "2020-06-29\n",
      "2020-07-22\n",
      "2020-08-04\n",
      "2020-08-24\n",
      "2020-09-14\n",
      "2020-09-25\n",
      "2020-10-19\n",
      "2020-11-03\n",
      "['2020-03-04', '2020-03-23', '2020-04-29', '2020-05-08', '2020-05-14', '2020-06-29', '2020-07-22', '2020-08-04', '2020-08-24', '2020-09-14', '2020-09-25', '2020-10-19', '2020-11-03']\n"
     ]
    }
   ],
   "source": [
    "#load data by day \n",
    "tker = 'BA'\n",
    "day = 200\n",
    "date = ind.load_stock(tker,day)['date']\n",
    "#print(date)\n",
    "result = []\n",
    "for d in date:\n",
    "    data = ind.load_stock_from(tker,d,200)\n",
    "    stock = ind.cal_stock(data)\n",
    "    if ind.buy_signal_l(stock):\n",
    "        result.append(d)\n",
    "        print(d)\n",
    "        #print(stock[['close','kdjk','kdjd','cross_kd','macdh']].tail(1))\n",
    "print(result)"
   ]
  },
  {
   "cell_type": "code",
   "execution_count": 3,
   "metadata": {},
   "outputs": [],
   "source": [
    "## kd rule result \n",
    "#RVLV\n",
    "#total: 11\n",
    "#error: 3-17, 6-19, 9-01\n",
    "#error number : 3\n",
    "#BA\n",
    "#total: 13\n",
    "#error: 3-17, 6-19, 9-01\n",
    "#error number : 3"
   ]
  },
  {
   "cell_type": "code",
   "execution_count": 5,
   "metadata": {},
   "outputs": [
    {
     "name": "stdout",
     "output_type": "stream",
     "text": [
      "2020-04-29\n",
      "2020-06-29\n",
      "2020-08-24\n",
      "2020-09-14\n",
      "['2020-04-29', '2020-06-29', '2020-08-24', '2020-09-14']\n"
     ]
    }
   ],
   "source": [
    "#load data by day \n",
    "tker = 'BA'\n",
    "day = 200\n",
    "date = ind.load_stock(tker,day)['date']\n",
    "#print(date)\n",
    "result = []\n",
    "for d in date:\n",
    "    data = ind.load_stock_from(tker,d,200)\n",
    "    stock = ind.cal_stock(data)\n",
    "    if ind.kd_buy_long(stock) and ind.ma_buy_long(stock):\n",
    "        result.append(d)\n",
    "        print(d)\n",
    "        #print(stock[['close','kdjk','kdjd','cross_kd','macdh']].tail(1))\n",
    "print(result)"
   ]
  },
  {
   "cell_type": "markdown",
   "metadata": {},
   "source": [
    "tker = 'RVLV'\n",
    "data = ind.load_stock_30min(tker)\n",
    "stock = ind.cal_stock(data)\n",
    "stock['kdjd'].tail(20)\n",
    "        "
   ]
  },
  {
   "cell_type": "code",
   "execution_count": null,
   "metadata": {},
   "outputs": [],
   "source": []
  },
  {
   "cell_type": "code",
   "execution_count": null,
   "metadata": {},
   "outputs": [],
   "source": []
  },
  {
   "cell_type": "code",
   "execution_count": null,
   "metadata": {},
   "outputs": [],
   "source": []
  }
 ],
 "metadata": {
  "kernelspec": {
   "display_name": "Python 3",
   "language": "python",
   "name": "python3"
  },
  "language_info": {
   "codemirror_mode": {
    "name": "ipython",
    "version": 3
   },
   "file_extension": ".py",
   "mimetype": "text/x-python",
   "name": "python",
   "nbconvert_exporter": "python",
   "pygments_lexer": "ipython3",
   "version": "3.7.3"
  }
 },
 "nbformat": 4,
 "nbformat_minor": 2
}
